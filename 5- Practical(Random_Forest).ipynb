{
 "cells": [
  {
   "cell_type": "markdown",
   "id": "bee2b023-91d0-4b0f-8aab-5e7121aefc48",
   "metadata": {},
   "source": [
    "# A. Implement Random Forest Classifier model to predict the safety of the car. \n",
    "Dataset link: https://www.kaggle.com/datasets/elikplim/car-evaluation-data-set"
   ]
  },
  {
   "cell_type": "code",
   "execution_count": 1,
   "id": "6ef5ca91-7b5b-40c9-b75f-c9d593f8af3e",
   "metadata": {},
   "outputs": [],
   "source": [
    "# Import necessary libraries\n",
    "import pandas as pd\n",
    "import seaborn as sns\n",
    "import matplotlib.pyplot as plt\n",
    "from sklearn.model_selection import train_test_split\n",
    "from sklearn.ensemble import RandomForestClassifier\n",
    "from sklearn.metrics import accuracy_score, classification_report, confusion_matrix\n",
    "from sklearn.preprocessing import LabelEncoder"
   ]
  },
  {
   "cell_type": "code",
   "execution_count": 2,
   "id": "fce082b0-395d-4cfb-aad9-648a6754266b",
   "metadata": {},
   "outputs": [
    {
     "data": {
      "text/html": [
       "<div>\n",
       "<style scoped>\n",
       "    .dataframe tbody tr th:only-of-type {\n",
       "        vertical-align: middle;\n",
       "    }\n",
       "\n",
       "    .dataframe tbody tr th {\n",
       "        vertical-align: top;\n",
       "    }\n",
       "\n",
       "    .dataframe thead th {\n",
       "        text-align: right;\n",
       "    }\n",
       "</style>\n",
       "<table border=\"1\" class=\"dataframe\">\n",
       "  <thead>\n",
       "    <tr style=\"text-align: right;\">\n",
       "      <th></th>\n",
       "      <th>buying</th>\n",
       "      <th>maint</th>\n",
       "      <th>doors</th>\n",
       "      <th>lug_boot</th>\n",
       "      <th>safety</th>\n",
       "      <th>class</th>\n",
       "    </tr>\n",
       "  </thead>\n",
       "  <tbody>\n",
       "    <tr>\n",
       "      <th>vhigh</th>\n",
       "      <td>vhigh</td>\n",
       "      <td>2</td>\n",
       "      <td>2</td>\n",
       "      <td>small</td>\n",
       "      <td>low</td>\n",
       "      <td>unacc</td>\n",
       "    </tr>\n",
       "    <tr>\n",
       "      <th>vhigh</th>\n",
       "      <td>vhigh</td>\n",
       "      <td>2</td>\n",
       "      <td>2</td>\n",
       "      <td>small</td>\n",
       "      <td>med</td>\n",
       "      <td>unacc</td>\n",
       "    </tr>\n",
       "    <tr>\n",
       "      <th>vhigh</th>\n",
       "      <td>vhigh</td>\n",
       "      <td>2</td>\n",
       "      <td>2</td>\n",
       "      <td>small</td>\n",
       "      <td>high</td>\n",
       "      <td>unacc</td>\n",
       "    </tr>\n",
       "    <tr>\n",
       "      <th>vhigh</th>\n",
       "      <td>vhigh</td>\n",
       "      <td>2</td>\n",
       "      <td>2</td>\n",
       "      <td>med</td>\n",
       "      <td>low</td>\n",
       "      <td>unacc</td>\n",
       "    </tr>\n",
       "    <tr>\n",
       "      <th>vhigh</th>\n",
       "      <td>vhigh</td>\n",
       "      <td>2</td>\n",
       "      <td>2</td>\n",
       "      <td>med</td>\n",
       "      <td>med</td>\n",
       "      <td>unacc</td>\n",
       "    </tr>\n",
       "    <tr>\n",
       "      <th>...</th>\n",
       "      <td>...</td>\n",
       "      <td>...</td>\n",
       "      <td>...</td>\n",
       "      <td>...</td>\n",
       "      <td>...</td>\n",
       "      <td>...</td>\n",
       "    </tr>\n",
       "    <tr>\n",
       "      <th>low</th>\n",
       "      <td>low</td>\n",
       "      <td>5more</td>\n",
       "      <td>more</td>\n",
       "      <td>med</td>\n",
       "      <td>med</td>\n",
       "      <td>good</td>\n",
       "    </tr>\n",
       "    <tr>\n",
       "      <th>low</th>\n",
       "      <td>low</td>\n",
       "      <td>5more</td>\n",
       "      <td>more</td>\n",
       "      <td>med</td>\n",
       "      <td>high</td>\n",
       "      <td>vgood</td>\n",
       "    </tr>\n",
       "    <tr>\n",
       "      <th>low</th>\n",
       "      <td>low</td>\n",
       "      <td>5more</td>\n",
       "      <td>more</td>\n",
       "      <td>big</td>\n",
       "      <td>low</td>\n",
       "      <td>unacc</td>\n",
       "    </tr>\n",
       "    <tr>\n",
       "      <th>low</th>\n",
       "      <td>low</td>\n",
       "      <td>5more</td>\n",
       "      <td>more</td>\n",
       "      <td>big</td>\n",
       "      <td>med</td>\n",
       "      <td>good</td>\n",
       "    </tr>\n",
       "    <tr>\n",
       "      <th>low</th>\n",
       "      <td>low</td>\n",
       "      <td>5more</td>\n",
       "      <td>more</td>\n",
       "      <td>big</td>\n",
       "      <td>high</td>\n",
       "      <td>vgood</td>\n",
       "    </tr>\n",
       "  </tbody>\n",
       "</table>\n",
       "<p>1728 rows × 6 columns</p>\n",
       "</div>"
      ],
      "text/plain": [
       "      buying  maint doors lug_boot safety  class\n",
       "vhigh  vhigh      2     2    small    low  unacc\n",
       "vhigh  vhigh      2     2    small    med  unacc\n",
       "vhigh  vhigh      2     2    small   high  unacc\n",
       "vhigh  vhigh      2     2      med    low  unacc\n",
       "vhigh  vhigh      2     2      med    med  unacc\n",
       "...      ...    ...   ...      ...    ...    ...\n",
       "low      low  5more  more      med    med   good\n",
       "low      low  5more  more      med   high  vgood\n",
       "low      low  5more  more      big    low  unacc\n",
       "low      low  5more  more      big    med   good\n",
       "low      low  5more  more      big   high  vgood\n",
       "\n",
       "[1728 rows x 6 columns]"
      ]
     },
     "execution_count": 2,
     "metadata": {},
     "output_type": "execute_result"
    }
   ],
   "source": [
    "df = pd.read_csv('car_evaluation.csv',names=['buying', 'maint', 'doors', 'lug_boot', 'safety', 'class'])\n",
    "df"
   ]
  },
  {
   "cell_type": "code",
   "execution_count": 3,
   "id": "08d68784-203c-4740-a942-76113714b915",
   "metadata": {},
   "outputs": [],
   "source": [
    "# Encoding all the string data\n",
    "df= df.apply(LabelEncoder().fit_transform) "
   ]
  },
  {
   "cell_type": "code",
   "execution_count": 4,
   "id": "ffce4d73-84f4-47f9-8b92-f6228492a54b",
   "metadata": {},
   "outputs": [],
   "source": [
    "# Define features (X) and target variable (y) using column names\n",
    "X = df.drop(columns=['class'])  # Drop the target column from the features\n",
    "y = df['class'].astype(str)  # Select the target column"
   ]
  },
  {
   "cell_type": "code",
   "execution_count": 5,
   "id": "4c701c37-8a4d-4099-944c-61b1831043a0",
   "metadata": {},
   "outputs": [],
   "source": [
    "# Split the dataset into training and testing sets (80% train, 20% test)\n",
    "X_train, X_test, y_train, y_test = train_test_split(X, y, test_size=0.2, random_state=42)\n",
    "# Create a Random Forest Classifier\n",
    "model = RandomForestClassifier(n_estimators=100, random_state=42)"
   ]
  },
  {
   "cell_type": "code",
   "execution_count": 6,
   "id": "1a3d8d41-0c4f-459d-8011-427680ea3faa",
   "metadata": {},
   "outputs": [],
   "source": [
    "# Train the classifier on the training data\n",
    "model.fit(X_train, y_train)\n",
    "# Make predictions on the test data\n",
    "y_pred = model.predict(X_test)"
   ]
  },
  {
   "cell_type": "code",
   "execution_count": 7,
   "id": "ef39373e-e70f-40de-8891-155596464528",
   "metadata": {},
   "outputs": [
    {
     "name": "stdout",
     "output_type": "stream",
     "text": [
      "Accuracy: 0.7254335260115607\n",
      "\n",
      "Confusion Matrix:\n",
      " [[ 43   5  28   7]\n",
      " [ 10   1   0   0]\n",
      " [ 28   0 207   0]\n",
      " [ 17   0   0   0]]\n",
      "\n",
      "Classification Report:\n",
      "               precision    recall  f1-score   support\n",
      "\n",
      "           0       0.44      0.52      0.48        83\n",
      "           1       0.17      0.09      0.12        11\n",
      "           2       0.88      0.88      0.88       235\n",
      "           3       0.00      0.00      0.00        17\n",
      "\n",
      "    accuracy                           0.73       346\n",
      "   macro avg       0.37      0.37      0.37       346\n",
      "weighted avg       0.71      0.73      0.72       346\n",
      "\n"
     ]
    }
   ],
   "source": [
    "# Evaluate the model\n",
    "accuracy = accuracy_score(y_test, y_pred)\n",
    "print('Accuracy:',accuracy)\n",
    "confusion = confusion_matrix(y_test, y_pred)\n",
    "print(\"\\nConfusion Matrix:\\n\", confusion)\n",
    "classification_rep = classification_report(y_test, y_pred)\n",
    "print(\"\\nClassification Report:\\n\", classification_rep)"
   ]
  },
  {
   "cell_type": "code",
   "execution_count": 8,
   "id": "1447af76-b69b-4816-8ef4-2d980975344a",
   "metadata": {},
   "outputs": [
    {
     "data": {
      "image/png": "[encoded data removed]",
      "text/plain": [
       "<Figure size 1000x600 with 1 Axes>"
      ]
     },
     "metadata": {},
     "output_type": "display_data"
    }
   ],
   "source": [
    "feature_scores = pd.Series(model.feature_importances_, index=X.columns).sort_values(ascending=False)\n",
    "# Plot feature importance\n",
    "plt.figure(figsize=(10, 6))\n",
    "sns.barplot(x=feature_scores, y=feature_scores.index)\n",
    "plt.xlabel('Feature Importance Score')\n",
    "plt.ylabel('Features')\n",
    "plt.title(\"Visualizing Important Features\")\n",
    "plt.show()"
   ]
  },
  {
   "cell_type": "code",
   "execution_count": 9,
   "id": "f4059ade-daf9-4d4d-8b76-0f671351fcdf",
   "metadata": {},
   "outputs": [
    {
     "name": "stdout",
     "output_type": "stream",
     "text": [
      "Accuracy_score : 0.7254335260115607\n",
      "Confusion_matrix : [[ 43   5  28   7]\n",
      " [ 10   1   0   0]\n",
      " [ 28   0 207   0]\n",
      " [ 17   0   0   0]]\n",
      "classification_report:               precision    recall  f1-score   support\n",
      "\n",
      "           0       0.44      0.52      0.48        83\n",
      "           1       0.17      0.09      0.12        11\n",
      "           2       0.88      0.88      0.88       235\n",
      "           3       0.00      0.00      0.00        17\n",
      "\n",
      "    accuracy                           0.73       346\n",
      "   macro avg       0.37      0.37      0.37       346\n",
      "weighted avg       0.71      0.73      0.72       346\n",
      "\n"
     ]
    },
    {
     "data": {
      "image/png": "[encoded data removed]",
      "text/plain": [
       "<Figure size 1000x600 with 1 Axes>"
      ]
     },
     "metadata": {},
     "output_type": "display_data"
    }
   ],
   "source": [
    "import pandas as pd \n",
    "import seaborn as sns \n",
    "import matplotlib.pyplot as plt \n",
    "from sklearn.model_selection import train_test_split\n",
    "from sklearn.ensemble import RandomForestClassifier\n",
    "from sklearn.metrics import accuracy_score ,confusion_matrix,classification_report\n",
    "from sklearn.preprocessing import LabelEncoder\n",
    "df=pd.read_csv(\"Car_Evaluation.csv\" ,names=['buying','maint','doors','lug_boot','safety','class'])\n",
    "df\n",
    "df=df.apply(LabelEncoder().fit_transform)\n",
    "\n",
    "X = df.drop(columns=['class'])\n",
    "y=df['class'].astype(str)\n",
    "\n",
    "X_train,X_test ,y_train,y_test =train_test_split(X,y,test_size =0.2 ,random_state=42)\n",
    "model=RandomForestClassifier(n_estimators=100 ,random_state=42)\n",
    "model.fit(X_train,y_train)\n",
    "\n",
    "y_pred = model.predict(X_test)\n",
    "\n",
    "accuracy =accuracy_score(y_test,y_pred)\n",
    "print(\"Accuracy_score :\" ,accuracy)\n",
    "confusion =confusion_matrix(y_test,y_pred)\n",
    "print(\"Confusion_matrix :\" ,confusion)\n",
    "classification_rep =classification_report(y_test,y_pred)\n",
    "print(\"classification_report:\" ,classification_rep)\n",
    "\n",
    "feature_scores = pd.Series(model.feature_importances_, index=X.columns).sort_values(ascending=False)\n",
    "plt.figure(figsize=(10,6))\n",
    "sns.barplot(x=feature_scores,y=feature_scores.index)\n",
    "plt.xlabel('Importance of Features ')\n",
    "plt.ylabel('Features')\n",
    "plt.title('Important features visualization')\n",
    "plt.show()\n",
    "\n"
   ]
  },
  {
   "cell_type": "code",
   "execution_count": null,
   "id": "e45f87d8-9a94-4101-a3d9-df12de4994fe",
   "metadata": {},
   "outputs": [],
   "source": []
  }
 ],
 "metadata": {
  "kernelspec": {
   "display_name": "Python 3 (ipykernel)",
   "language": "python",
   "name": "python3"
  },
  "language_info": {
   "codemirror_mode": {
    "name": "ipython",
    "version": 3
   },
   "file_extension": ".py",
   "mimetype": "text/x-python",
   "name": "python",
   "nbconvert_exporter": "python",
   "pygments_lexer": "ipython3",
   "version": "3.11.1"
  }
 },
 "nbformat": 4,
 "nbformat_minor": 5
}
